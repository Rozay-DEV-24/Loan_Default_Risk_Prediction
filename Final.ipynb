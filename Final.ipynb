{
 "cells": [
  {
   "cell_type": "markdown",
   "id": "805a2703",
   "metadata": {},
   "source": [
    "#### 1. Reading and exploring data"
   ]
  },
  {
   "cell_type": "code",
   "execution_count": 37,
   "id": "d97524c5",
   "metadata": {},
   "outputs": [
    {
     "name": "stdout",
     "output_type": "stream",
     "text": [
      "  checking_balance  months_loan_duration credit_history               purpose  \\\n",
      "0           < 0 DM                     6       critical  furniture/appliances   \n",
      "1       1 - 200 DM                    48           good  furniture/appliances   \n",
      "2          unknown                    12       critical             education   \n",
      "3           < 0 DM                    42           good  furniture/appliances   \n",
      "4           < 0 DM                    24           poor                   car   \n",
      "\n",
      "   amount savings_balance employment_duration  percent_of_income  \\\n",
      "0    1169         unknown           > 7 years                  4   \n",
      "1    5951        < 100 DM         1 - 4 years                  2   \n",
      "2    2096        < 100 DM         4 - 7 years                  2   \n",
      "3    7882        < 100 DM         4 - 7 years                  2   \n",
      "4    4870        < 100 DM         1 - 4 years                  3   \n",
      "\n",
      "   years_at_residence  age other_credit housing  existing_loans_count  \\\n",
      "0                   4   67         none     own                     2   \n",
      "1                   2   22         none     own                     1   \n",
      "2                   3   49         none     own                     1   \n",
      "3                   4   45         none   other                     1   \n",
      "4                   4   53         none   other                     2   \n",
      "\n",
      "         job  dependents phone default  \n",
      "0    skilled           1   yes      no  \n",
      "1    skilled           1    no     yes  \n",
      "2  unskilled           2    no      no  \n",
      "3    skilled           2    no      no  \n",
      "4    skilled           2    no     yes  \n",
      "       months_loan_duration        amount  percent_of_income  \\\n",
      "count           1000.000000   1000.000000        1000.000000   \n",
      "mean              20.903000   3271.258000           2.973000   \n",
      "std               12.058814   2822.736876           1.118715   \n",
      "min                4.000000    250.000000           1.000000   \n",
      "25%               12.000000   1365.500000           2.000000   \n",
      "50%               18.000000   2319.500000           3.000000   \n",
      "75%               24.000000   3972.250000           4.000000   \n",
      "max               72.000000  18424.000000           4.000000   \n",
      "\n",
      "       years_at_residence          age  existing_loans_count   dependents  \n",
      "count         1000.000000  1000.000000           1000.000000  1000.000000  \n",
      "mean             2.845000    35.546000              1.407000     1.155000  \n",
      "std              1.103718    11.375469              0.577654     0.362086  \n",
      "min              1.000000    19.000000              1.000000     1.000000  \n",
      "25%              2.000000    27.000000              1.000000     1.000000  \n",
      "50%              3.000000    33.000000              1.000000     1.000000  \n",
      "75%              4.000000    42.000000              2.000000     1.000000  \n",
      "max              4.000000    75.000000              4.000000     2.000000  \n",
      "checking_balance        0\n",
      "months_loan_duration    0\n",
      "credit_history          0\n",
      "purpose                 0\n",
      "amount                  0\n",
      "savings_balance         0\n",
      "employment_duration     0\n",
      "percent_of_income       0\n",
      "years_at_residence      0\n",
      "age                     0\n",
      "other_credit            0\n",
      "housing                 0\n",
      "existing_loans_count    0\n",
      "job                     0\n",
      "dependents              0\n",
      "phone                   0\n",
      "default                 0\n",
      "dtype: int64\n",
      "   months_loan_duration  amount  percent_of_income  years_at_residence  age  \\\n",
      "0                     6    1169                  4                   4   67   \n",
      "1                    48    5951                  2                   2   22   \n",
      "2                    12    2096                  2                   3   49   \n",
      "3                    42    7882                  2                   4   45   \n",
      "4                    24    4870                  3                   4   53   \n",
      "\n",
      "   existing_loans_count  dependents  \n",
      "0                     2           1  \n",
      "1                     1           1  \n",
      "2                     1           2  \n",
      "3                     1           2  \n",
      "4                     2           2  \n"
     ]
    },
    {
     "data": {
      "image/png": "[encoded data removed]",
      "text/plain": [
       "<Figure size 640x480 with 1 Axes>"
      ]
     },
     "metadata": {},
     "output_type": "display_data"
    },
    {
     "name": "stdout",
     "output_type": "stream",
     "text": [
      "                      months_loan_duration    amount  percent_of_income  \\\n",
      "months_loan_duration              1.000000  0.624984           0.074749   \n",
      "amount                            0.624984  1.000000          -0.271316   \n",
      "percent_of_income                 0.074749 -0.271316           1.000000   \n",
      "years_at_residence                0.034067  0.028926           0.049302   \n",
      "age                              -0.036136  0.032716           0.058266   \n",
      "existing_loans_count             -0.011284  0.020795           0.021669   \n",
      "dependents                       -0.023834  0.017142          -0.071207   \n",
      "\n",
      "                      years_at_residence       age  existing_loans_count  \\\n",
      "months_loan_duration            0.034067 -0.036136             -0.011284   \n",
      "amount                          0.028926  0.032716              0.020795   \n",
      "percent_of_income               0.049302  0.058266              0.021669   \n",
      "years_at_residence              1.000000  0.266419              0.089625   \n",
      "age                             0.266419  1.000000              0.149254   \n",
      "existing_loans_count            0.089625  0.149254              1.000000   \n",
      "dependents                      0.042643  0.118201              0.109667   \n",
      "\n",
      "                      dependents  \n",
      "months_loan_duration   -0.023834  \n",
      "amount                  0.017142  \n",
      "percent_of_income      -0.071207  \n",
      "years_at_residence      0.042643  \n",
      "age                     0.118201  \n",
      "existing_loans_count    0.109667  \n",
      "dependents              1.000000  \n"
     ]
    }
   ],
   "source": [
    "import pandas as pd\n",
    "import matplotlib.pyplot as plt\n",
    "\n",
    "data = pd.read_csv('credit.csv')\n",
    "\n",
    "print(data.head())\n",
    "\n",
    "print(data.describe())\n",
    "print(data.isnull().sum())\n",
    "\n",
    "numeric_data = data.select_dtypes(include='number')\n",
    "\n",
    "print(numeric_data.head())\n",
    "\n",
    "plt.hist(data['age'])\n",
    "plt.xlabel('Age')\n",
    "plt.ylabel('Frequency')\n",
    "plt.title('Distribution of Age')\n",
    "plt.show()\n",
    "\n",
    "correlation_matrix = numeric_data.corr()\n",
    "print(correlation_matrix)"
   ]
  },
  {
   "cell_type": "markdown",
   "id": "1d361f5e",
   "metadata": {},
   "source": [
    "#### 2. Data pre-processing"
   ]
  },
  {
   "cell_type": "code",
   "execution_count": 38,
   "id": "101801b8",
   "metadata": {},
   "outputs": [],
   "source": [
    "import pandas as pd\n",
    "from sklearn.preprocessing import StandardScaler\n",
    "\n",
    "data = pd.read_csv('credit.csv')\n",
    "\n",
    "numeric_data = data.select_dtypes(include='number')\n",
    "\n",
    "numeric_data.fillna(numeric_data.mean(), inplace=True)\n",
    "\n",
    "scaler = StandardScaler()\n",
    "numeric_data_scaled = pd.DataFrame(scaler.fit_transform(numeric_data), columns=numeric_data.columns)\n",
    "\n",
    "numeric_data_scaled.to_csv('preprocessed_credit.csv', index=False)"
   ]
  },
  {
   "cell_type": "markdown",
   "id": "42b0da8c",
   "metadata": {},
   "source": [
    "#### 3. Machine Learning models"
   ]
  },
  {
   "cell_type": "markdown",
   "id": "14fab53e",
   "metadata": {},
   "source": [
    "#### Linear Regression:"
   ]
  },
  {
   "cell_type": "code",
   "execution_count": 39,
   "id": "e5e7b7cb",
   "metadata": {},
   "outputs": [
    {
     "name": "stdout",
     "output_type": "stream",
     "text": [
      "Linear Regression Mean Squared Error: 0.5967157998856608\n"
     ]
    }
   ],
   "source": [
    "import pandas as pd\n",
    "from sklearn.model_selection import train_test_split\n",
    "from sklearn.linear_model import LinearRegression\n",
    "from sklearn.metrics import mean_squared_error\n",
    "\n",
    "data = pd.read_csv('preprocessed_credit.csv')\n",
    "\n",
    "features = ['amount', 'percent_of_income', 'years_at_residence', 'age', 'existing_loans_count', 'dependents']\n",
    "target = 'months_loan_duration'\n",
    "\n",
    "X = data[features]\n",
    "y = data[target]\n",
    "\n",
    "X_train, X_test, y_train, y_test = train_test_split(X, y, test_size=0.2, random_state=42)\n",
    "\n",
    "model = LinearRegression()\n",
    "model.fit(X_train, y_train)\n",
    "\n",
    "y_pred = model.predict(X_test)\n",
    "\n",
    "mse = mean_squared_error(y_test, y_pred)\n",
    "print(f\"Linear Regression Mean Squared Error: {mse}\")"
   ]
  },
  {
   "cell_type": "markdown",
   "id": "2fbee28d",
   "metadata": {},
   "source": [
    "#### Decision Tree:"
   ]
  },
  {
   "cell_type": "code",
   "execution_count": 40,
   "id": "d0c6ec11",
   "metadata": {},
   "outputs": [
    {
     "name": "stdout",
     "output_type": "stream",
     "text": [
      "Decision Tree Mean Squared Error: 0.9628993861488877\n"
     ]
    }
   ],
   "source": [
    "from sklearn.tree import DecisionTreeRegressor\n",
    "\n",
    "model = DecisionTreeRegressor(random_state=42)\n",
    "model.fit(X_train, y_train)\n",
    "\n",
    "y_pred = model.predict(X_test)\n",
    "\n",
    "mse = mean_squared_error(y_test, y_pred)\n",
    "print(f\"Decision Tree Mean Squared Error: {mse}\")"
   ]
  },
  {
   "cell_type": "markdown",
   "id": "501d7ddd",
   "metadata": {},
   "source": [
    "#### Support Vector Machine (SVM):"
   ]
  },
  {
   "cell_type": "code",
   "execution_count": 41,
   "id": "883f0d9b",
   "metadata": {},
   "outputs": [
    {
     "name": "stdout",
     "output_type": "stream",
     "text": [
      "SVM Mean Squared Error: 0.5338932442960133\n"
     ]
    }
   ],
   "source": [
    "from sklearn.svm import SVR\n",
    "from sklearn.preprocessing import StandardScaler\n",
    "from sklearn.pipeline import make_pipeline\n",
    "\n",
    "scaler = StandardScaler()\n",
    "X_train_scaled = scaler.fit_transform(X_train)\n",
    "X_test_scaled = scaler.transform(X_test)\n",
    "\n",
    "model = make_pipeline(StandardScaler(), SVR())\n",
    "model.fit(X_train_scaled, y_train)\n",
    "\n",
    "y_pred = model.predict(X_test_scaled)\n",
    "mse = mean_squared_error(y_test, y_pred)\n",
    "\n",
    "print(f\"SVM Mean Squared Error: {mse}\")"
   ]
  },
  {
   "cell_type": "markdown",
   "id": "253822c9",
   "metadata": {},
   "source": [
    "#### K-Nearest Neighbors (KNN):"
   ]
  },
  {
   "cell_type": "code",
   "execution_count": 42,
   "id": "c81f608f",
   "metadata": {},
   "outputs": [
    {
     "name": "stdout",
     "output_type": "stream",
     "text": [
      "KNN Mean Squared Error: 0.692100798989652\n"
     ]
    }
   ],
   "source": [
    "from sklearn.neighbors import KNeighborsRegressor\n",
    "\n",
    "model = KNeighborsRegressor()\n",
    "model.fit(X_train, y_train)\n",
    "y_pred = model.predict(X_test)\n",
    "mse = mean_squared_error(y_test, y_pred)\n",
    "\n",
    "print(f\"KNN Mean Squared Error: {mse}\")"
   ]
  },
  {
   "cell_type": "code",
   "execution_count": null,
   "id": "d9d6702a",
   "metadata": {},
   "outputs": [],
   "source": []
  }
 ],
 "metadata": {
  "kernelspec": {
   "display_name": "Python 3 (ipykernel)",
   "language": "python",
   "name": "python3"
  },
  "language_info": {
   "codemirror_mode": {
    "name": "ipython",
    "version": 3
   },
   "file_extension": ".py",
   "mimetype": "text/x-python",
   "name": "python",
   "nbconvert_exporter": "python",
   "pygments_lexer": "ipython3",
   "version": "3.11.5"
  }
 },
 "nbformat": 4,
 "nbformat_minor": 5
}
